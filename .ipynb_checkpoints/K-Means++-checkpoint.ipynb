{
 "cells": [
  {
   "cell_type": "markdown",
   "metadata": {},
   "source": [
    "### K-Means++\n",
    "\n",
    "- K-Means is quite sensitive to initalization, if the init is not good, our algorithm is not able to make desired number\n",
    "of clusters.\n",
    "- To overcome this problem, we use technique called K-Means++ (described in paper [Robust Seed Selection for K-Means type of Algorithms](https://arxiv.org/abs/1202.1585))\n",
    "    which chooses initial centers so that they are statiscallly close to final ones.\n",
    "\n",
    "- The method is default choice for sklearn, so we will use it directly without going into much maths!\n"
   ]
  },
  {
   "cell_type": "markdown",
   "metadata": {},
   "source": [
    "Two different types of clustering oberserved for two different types of initialisations as discussed in the last example.\n",
    "\n",
    "**Clustering - 1** \n",
    "<img src=\"init_2.png\" alt=\"Pizza-1\" style=\"width: 400px;\"/>\n",
    "\n",
    "**Clustering - 2**\n",
    "<img src=\"init_1.png\" alt=\"Pizza-1\" style=\"width: 400px;\"/>\n"
   ]
  },
  {
   "cell_type": "markdown",
   "metadata": {},
   "source": [
    "## Using Sci-kit Learn"
   ]
  },
  {
   "cell_type": "code",
   "execution_count": null,
   "metadata": {},
   "outputs": [],
   "source": [
    "# sklarn.clusters.KMeans\n",
    "import numpy as np\n"
   ]
  }
 ],
 "metadata": {
  "kernelspec": {
   "display_name": "Python 3",
   "language": "python",
   "name": "python3"
  },
  "language_info": {
   "codemirror_mode": {
    "name": "ipython",
    "version": 3
   },
   "file_extension": ".py",
   "mimetype": "text/x-python",
   "name": "python",
   "nbconvert_exporter": "python",
   "pygments_lexer": "ipython3",
   "version": "3.7.3"
  }
 },
 "nbformat": 4,
 "nbformat_minor": 2
}
